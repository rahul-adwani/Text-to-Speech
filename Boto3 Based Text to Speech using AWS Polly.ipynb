{
 "cells": [
  {
   "cell_type": "markdown",
   "metadata": {},
   "source": [
    "## Welcome to an exercise where we shall see how to use AWS Polly Text to Speech API\n",
    "\n",
    "#### Please note you need to have an AWS account for this and you need to complete the credentials and config settings on the system beforehand"
   ]
  },
  {
   "cell_type": "markdown",
   "metadata": {},
   "source": [
    "#### Importing the Libraries"
   ]
  },
  {
   "cell_type": "code",
   "execution_count": 23,
   "metadata": {},
   "outputs": [],
   "source": [
    "import boto3\n",
    "from playsound import playsound\n",
    "import os.path\n",
    "from os import path\n",
    "import os"
   ]
  },
  {
   "cell_type": "markdown",
   "metadata": {},
   "source": [
    "#### Creating a Polly client object"
   ]
  },
  {
   "cell_type": "code",
   "execution_count": 3,
   "metadata": {},
   "outputs": [],
   "source": [
    "client_polly = boto3.client('polly')"
   ]
  },
  {
   "cell_type": "markdown",
   "metadata": {},
   "source": [
    "#### Define a function which will take the text to be read and call AWS Polly Text to Speech API"
   ]
  },
  {
   "cell_type": "code",
   "execution_count": 76,
   "metadata": {},
   "outputs": [],
   "source": [
    "def read_text(text):\n",
    "    response = client_polly.synthesize_speech(LanguageCode='hi-IN',OutputFormat='mp3',Text=text,VoiceId='Takumi')\n",
    "    body = response['AudioStream'].read()\n",
    "    \n",
    "    output_file = 'voice.mp3'\n",
    "    \n",
    "    if path.exists('voice.mp3'):\n",
    "        os.remove('voice.mp3')\n",
    "    \n",
    "    with open(output_file,'wb') as file:\n",
    "        file.write(body)\n",
    "        file.close()\n",
    "        \n",
    "    playsound('voice.mp3')"
   ]
  },
  {
   "cell_type": "markdown",
   "metadata": {},
   "source": [
    "#### Test the function"
   ]
  },
  {
   "cell_type": "code",
   "execution_count": 48,
   "metadata": {},
   "outputs": [],
   "source": [
    "read_text('I am trying to learn the AWS Polly Services')"
   ]
  },
  {
   "cell_type": "code",
   "execution_count": 53,
   "metadata": {},
   "outputs": [],
   "source": [
    "read_text('I have successfully converted the first text to speech via Polly Services')"
   ]
  },
  {
   "cell_type": "code",
   "execution_count": 55,
   "metadata": {},
   "outputs": [],
   "source": [
    "read_text('कृपया इस पाठ का हिंदी में अनुवाद करें')"
   ]
  },
  {
   "cell_type": "code",
   "execution_count": 77,
   "metadata": {},
   "outputs": [],
   "source": [
    "read_text('मेरा नाम राहुल आडवाणी है')"
   ]
  }
 ],
 "metadata": {
  "kernelspec": {
   "display_name": "Python 3",
   "language": "python",
   "name": "python3"
  },
  "language_info": {
   "codemirror_mode": {
    "name": "ipython",
    "version": 3
   },
   "file_extension": ".py",
   "mimetype": "text/x-python",
   "name": "python",
   "nbconvert_exporter": "python",
   "pygments_lexer": "ipython3",
   "version": "3.7.4"
  }
 },
 "nbformat": 4,
 "nbformat_minor": 2
}
